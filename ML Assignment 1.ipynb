{
 "cells": [
  {
   "cell_type": "code",
   "execution_count": null,
   "id": "7128d93a-a4ba-49f5-8259-fee8562b29d8",
   "metadata": {},
   "outputs": [],
   "source": [
    "#1. What does one mean by the term \"machine learning\" ?\n",
    "\n",
    "Ans. Machine learning Popularly known as ML is a branch of Artificial Intelligence (AI) that allows software applications to \n",
    "become more accurate at predicting outcomes without being explicitly programmed to do so. \n",
    "Machine learning algorithms use historical data as input to predict new output values."
   ]
  },
  {
   "cell_type": "code",
   "execution_count": null,
   "id": "2d14f9e5-e665-405f-a188-0008156f4ad7",
   "metadata": {},
   "outputs": [],
   "source": [
    "#2. Can you think of 4 distinct types of issues where it shines ?\n",
    "\n",
    "Ans. The following are some of the issues where Machine Learning can be used:\n",
    "\n",
    "*Image Recognition: Image recognition is one of the most common applications of machine learning. \n",
    "It is used to identify objects, persons, places, digital images, etc. The popular use case of image recognition and face detection is Automatic friend tagging suggestion.\n",
    "\n",
    "*Speech Recognition: While using Google, we get an option of Search by voice, it comes under speech recognition, and it's a \n",
    "popular application of Machine Learning. Speech recognition is a process of converting voice instructions into text, and \n",
    "it is also known as Speech to text, or Computer based speech recognition At present, machine learning algorithms are widely used by various applications of speech recognition. \n",
    "Google assistant, Siri, Cortana, and Alexa are using speech recognition technology to follow the voice instructions.\n",
    "\n",
    "*Traffic prediction: It predicts the traffic conditions such as whether traffic is cleared, slow-moving, or heavily congested \n",
    "with the help of two ways: Real Time location of the vehicle form Google Map app and sensors Average time has taken on past days at the same time.\n",
    "\n",
    "*Product recommendations: Machine learning is widely used by various e-commerce and entertainment companies such as Amazon, \n",
    "Netflix, etc., for product recommendation to the user."
   ]
  },
  {
   "cell_type": "code",
   "execution_count": null,
   "id": "c76b26e1-dacb-4ee2-9a01-ec33ca31f2d6",
   "metadata": {},
   "outputs": [],
   "source": [
    "#3. What is a labeled training set, and how does it work ?\n",
    "\n",
    "Ans. You split up the data containing known response variable values into two pieces. \n",
    "The training set is used to train the algorithm, and then you use the trained model on the test set to predict the response \n",
    "variable values that are already known."
   ]
  },
  {
   "cell_type": "code",
   "execution_count": null,
   "id": "65ac20bd-4ae8-4f75-8abc-47544836fa3c",
   "metadata": {},
   "outputs": [],
   "source": [
    "#4. What are the two most important tasks that are supervised ?\n",
    "\n",
    "Ans. The two most common supervised learning tasks are Regression and Classification."
   ]
  },
  {
   "cell_type": "code",
   "execution_count": null,
   "id": "4717a3fa-a8a4-4c5c-8f26-fb3db1775c98",
   "metadata": {},
   "outputs": [],
   "source": [
    "#5. Can you think of four examples of unsupervised tasks ?\n",
    "\n",
    "Ans. Four common Unsupervised Tasks included Clustering, Visualization, Dimensionality Reduction, and Association Rule Learning."
   ]
  },
  {
   "cell_type": "code",
   "execution_count": null,
   "id": "6587c7b7-68bb-4920-b4fb-e8aa722c64e1",
   "metadata": {},
   "outputs": [],
   "source": [
    "#6. State the machine learning model that would be best to make a robot walk through various unfamiliar terrains ?\n",
    "\n",
    "Ans. The best Machine Learning algorithm to allow a Robot to walk in unfamiliar terrains is Reinforced Learning, where the \n",
    "robot can learn from response of the terrain to optimize itself."
   ]
  },
  {
   "cell_type": "code",
   "execution_count": null,
   "id": "7929b481-d253-40b0-9343-683bf1e6a329",
   "metadata": {},
   "outputs": [],
   "source": [
    "#7. Which algorithm will you use to divide your customers into different groups ?\n",
    "\n",
    "Ans. The Best Algorithm to Segment Customers into different groups is either Supervised Learning (if the groups have known labels) or\n",
    "Unsupervised Learning (if there are no group labels)."
   ]
  },
  {
   "cell_type": "code",
   "execution_count": null,
   "id": "c0b14cb4-3c47-4e60-a375-2598c36ac9d4",
   "metadata": {},
   "outputs": [],
   "source": [
    "#8. Will you consider the problem of spam detection to be a supervised or unsupervised learning problem ?\n",
    "\n",
    "Ans. Spam detection is a Supervised Machine Learning problem because the labels are known (spam or no spam)."
   ]
  },
  {
   "cell_type": "code",
   "execution_count": null,
   "id": "56140a44-c644-4d3b-a680-ef07518741c6",
   "metadata": {},
   "outputs": [],
   "source": [
    "#9. What is the concept of an online learning system ?\n",
    "\n",
    "Ans. Online learning system is a learning system in which the machine learns continously, as data is given in small streams \n",
    "continuously."
   ]
  },
  {
   "cell_type": "code",
   "execution_count": null,
   "id": "c566e157-e1a2-4173-a821-6e7ece11f4fd",
   "metadata": {},
   "outputs": [],
   "source": [
    "#10. What is out-of-core learning, and how does it differ from core learning ?\n",
    "\n",
    "Ans. Out-of-core learning system is a system that can handle data that cannot fit into your computer memory. \n",
    "It uses online learning system to feed data in small bits."
   ]
  },
  {
   "cell_type": "code",
   "execution_count": null,
   "id": "3399a9c4-9cea-44a7-baf6-11a9d4a3be48",
   "metadata": {},
   "outputs": [],
   "source": [
    "#11. What kind of learning algorithm makes predictions using a similarity measure ?\n",
    "\n",
    "Ans. Learning algorithm that relies on a similarity measure to make predictions is Instance Based Algorithm."
   ]
  },
  {
   "cell_type": "code",
   "execution_count": null,
   "id": "37ece5b1-939c-40ee-a712-973db5b06735",
   "metadata": {},
   "outputs": [],
   "source": [
    "#12. What's the difference between a model parameter and a hyperparameter in a learning algorithm ?\n",
    "\n",
    "Ans. Model parameter determines how a model will predict given a new instance. \n",
    "Model usually has more than one parameter (i.e. slope of a linear model). \n",
    "Hyperparameter is a parameter for the learning algorithm, not of a model."
   ]
  },
  {
   "cell_type": "code",
   "execution_count": null,
   "id": "1b4346c4-6461-4f37-a7a8-ae9f902bd040",
   "metadata": {},
   "outputs": [],
   "source": [
    "#13. .What are the criteria that model-based learning algorithms look for? What is the most popular method they use to achieve success? What method do they use to make predictions ?\n",
    "\n",
    "Ans. Model based learning algorithm search for the optimal value of parameters in a model that will give the best results \n",
    "for the new instances. We often use a cost function or similar to determine what the parameter value has to be in order to\n",
    "minimize the function. The model makes prediction by using the value of the new instance and the parameters in its function."
   ]
  },
  {
   "cell_type": "code",
   "execution_count": null,
   "id": "dfb48133-38e5-4337-8a1c-0b70a28963a7",
   "metadata": {},
   "outputs": [],
   "source": [
    "#14. .Can you name four of the most important Machine Learning challenges ?\n",
    "\n",
    "Ans. Four main challenges in Machine Learning include the following:\n",
    "\n",
    "*Overfitting the Data (using a model too complicated)\n",
    "*Underfitting the data (using a simple model)\n",
    "*Lacking in Data\n",
    "*Non Representative Data."
   ]
  },
  {
   "cell_type": "code",
   "execution_count": null,
   "id": "961f24a7-7ae7-4e9f-a370-92569322500d",
   "metadata": {},
   "outputs": [],
   "source": [
    "#15. What happens if the model performs well on the training data but fails to generalize the results to new situations? Can you think of three different options ?\n",
    "\n",
    "Ans. If the model performs poorly to new instances, then it has overfitted on the training data. To solve this, we can do any of the following three:\n",
    "\n",
    "*Get more data\n",
    "*Implement a simpler model\n",
    "*Eliminate outliers or noise from the existing data set."
   ]
  },
  {
   "cell_type": "code",
   "execution_count": null,
   "id": "e006df47-952f-40aa-91ea-c9535672d8da",
   "metadata": {},
   "outputs": [],
   "source": [
    "#16. What exactly is a test set, and why would you need one ?\n",
    "\n",
    "Ans. Test set is a set to test your model (fit using training data) to see how it performs.\n",
    "Test set is necessary to determine how good (or bad) a model performs."
   ]
  },
  {
   "cell_type": "code",
   "execution_count": null,
   "id": "22a86e57-657d-4524-a1cd-23dd66f98cb4",
   "metadata": {},
   "outputs": [],
   "source": [
    "#17. What is a validation set's purpose ?\n",
    "\n",
    "Ans. Validation set is a set used to compare between different training models."
   ]
  },
  {
   "cell_type": "code",
   "execution_count": null,
   "id": "9d903d11-8266-49b9-b9a2-e71262a24afa",
   "metadata": {},
   "outputs": [],
   "source": [
    "#18. What precisely is the train-dev kit, when will you need it, how do you put it to use ?\n",
    "\n",
    "Ans. Cross-validation is a tool to compare models without needing a separate validation set. It is preferred over validation \n",
    "set because we can save from breaking of part of the training set to create a validation set, as having more data is valuable \n",
    "regardless."
   ]
  },
  {
   "cell_type": "code",
   "execution_count": null,
   "id": "01d1a4fb-1d8e-4f94-bb20-9cffc43c90a9",
   "metadata": {},
   "outputs": [],
   "source": [
    "#19. What could go wrong if you use the test set to tune hyperparameters ?\n",
    "\n",
    "Ans. If you tune hyperparameters using the test sets, then it may not perform well on the out-of-sample data because \n",
    "the model is tuned just for that specific set."
   ]
  }
 ],
 "metadata": {
  "kernelspec": {
   "display_name": "Python 3 (ipykernel)",
   "language": "python",
   "name": "python3"
  },
  "language_info": {
   "codemirror_mode": {
    "name": "ipython",
    "version": 3
   },
   "file_extension": ".py",
   "mimetype": "text/x-python",
   "name": "python",
   "nbconvert_exporter": "python",
   "pygments_lexer": "ipython3",
   "version": "3.10.6"
  }
 },
 "nbformat": 4,
 "nbformat_minor": 5
}
